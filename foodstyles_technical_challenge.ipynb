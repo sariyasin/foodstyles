{
 "cells": [
  {
   "cell_type": "markdown",
   "id": "dcde28b6",
   "metadata": {},
   "source": [
    "# Data Cleaning"
   ]
  },
  {
   "cell_type": "code",
   "execution_count": null,
   "id": "58576a74",
   "metadata": {},
   "outputs": [],
   "source": [
    "#load data\n",
    "import pandas as pd\n",
    "\n",
    "data1 = pd.read_csv('D:/Downloads/dataset/dataset.csv')"
   ]
  },
  {
   "cell_type": "code",
   "execution_count": null,
   "id": "c017fab1",
   "metadata": {},
   "outputs": [],
   "source": [
    "#print(data1.dtypes)\n",
    "# 1.\tIdentify the columns with mixed data types.\n",
    "from pandas.api.types import infer_dtype\n",
    "#data1.describe(include='all')\n",
    "\n",
    "for column in data1.columns:\n",
    "    print(pd.api.types.infer_dtype(data1[column]))\n",
    "# those dtype's which has string as an dtype may contain numbers and strings"
   ]
  },
  {
   "cell_type": "code",
   "execution_count": null,
   "id": "1d780bc1",
   "metadata": {},
   "outputs": [],
   "source": [
    "#2.\tFor each column, count the number of rows per data type.\n",
    "\n",
    "for column in data1.columns:\n",
    "    print(data1[column].apply(type).value_counts())"
   ]
  },
  {
   "cell_type": "raw",
   "id": "75514b10",
   "metadata": {},
   "source": [
    "#3.\tWould removing missing values solve the mixed data type problem?\n",
    "# No. Missing values means there is no input, which should effect prediction.\n",
    "# it is nothing to do with mixed data problem. \n",
    "#the missing values and mixed data type should be handled seperately with different imputation methods "
   ]
  },
  {
   "cell_type": "markdown",
   "id": "79d6f23e",
   "metadata": {},
   "source": [
    "# Data understanding"
   ]
  },
  {
   "cell_type": "code",
   "execution_count": null,
   "id": "9eee0d43",
   "metadata": {},
   "outputs": [],
   "source": [
    "# 1.\tAre the review columns correlated with the rating columns? \n",
    "from scipy.stats import pearsonr\n",
    "\n",
    "data2 = data1[['excellent', 'very_good', 'average', 'poor', 'terrible','total_reviews_count', 'reviews_count_in_default_language',  'food', 'service', 'value', 'atmosphere', 'avg_rating']]\n",
    "data2.corr()\n",
    "\n",
    "# pierson correlation shows that there is no correlation between reivew and rating columns"
   ]
  },
  {
   "cell_type": "code",
   "execution_count": null,
   "id": "c209b520",
   "metadata": {},
   "outputs": [],
   "source": [
    "#2.\tAre vegetarian-friendly restaurants better than non-vegetarian ones?\n",
    "from collections import Counter\n",
    "\n",
    "data3 = data1[['vegetarian_friendly','avg_rating'] ]\n",
    "\n",
    "p_table = pd.pivot_table(data3,index=['vegetarian_friendly'], aggfunc= {'avg_rating': 'mean'})\n",
    "print(p_table)\n",
    "\n",
    "# Yes. The pivot tables shows on avg_rating mean value that vegeterian_friendly restaurants has better rating."
   ]
  },
  {
   "cell_type": "code",
   "execution_count": null,
   "id": "9cfda208",
   "metadata": {},
   "outputs": [],
   "source": [
    "#3.\tAre there any significantly more expensive cuisines?\n",
    "import numpy as np\n",
    "import matplotlib.pyplot as plt\n",
    "import scipy.stats as stats\n",
    "\n",
    "data4 = data1[['cuisines','price_range'] ]\n",
    "\n",
    "data5 = data4.dropna()\n",
    "\n",
    "data5[['Min Price', 'Max Price']] = data5.price_range.str.split(\"-\", expand = True)\n",
    "\n",
    "data5['Max Price'] = data5['Max Price'].str.replace('[^0-9]','').astype('int')\n",
    "\n",
    "data5.sort_values(\"Max Price\", ascending=False).head(20)\n",
    "\n",
    "#Yes there are significantly more expensive cuisines which indicates of outliers\n"
   ]
  },
  {
   "cell_type": "markdown",
   "id": "e33579fc",
   "metadata": {},
   "source": [
    "# Business-specific"
   ]
  },
  {
   "cell_type": "code",
   "execution_count": null,
   "id": "93d5e418",
   "metadata": {},
   "outputs": [],
   "source": [
    "#Assuming there are no other factors, except population and gluten-free restaurant density,\n",
    "#what would be the top 5 capitals to open that restaurant?\n",
    "import pandas as pd\n",
    "d1 = pd.read_csv('D:\\Downloads\\europe_capitals_population_and_area.csv', sep=';')\n",
    "d1[['Area in km2 ','GlutenFree']] = d1['Area in km2 '].str.split(',',expand=True)\n",
    "d1 = d1[d1['GlutenFree'].isnull()]\n",
    "d1[\"result\"] = d1['Area in km2 '].astype('int').div(d1['Population'].astype('int').values)\n",
    "print(d1.sort_values(by=['result'], ascending=False).head(5))"
   ]
  },
  {
   "cell_type": "code",
   "execution_count": null,
   "id": "835fd2d3",
   "metadata": {},
   "outputs": [],
   "source": [
    "#2.\tThink and propose a couple of other ways this dataset could be used to help businesses.\n",
    "import pandas as pd\n",
    "import numpy as np\n",
    "from numpy import nan\n",
    "d1 = pd.read_csv('D:\\Downloads\\europe_capitals_population_and_area.csv', sep=';')\n",
    "d1[['Area in km2 ','GlutenFree']] = d1['Area in km2 '].str.split(',',expand=True)\n",
    "\n",
    "d1 = d1[d1['GlutenFree'].notnull()]\n",
    "\n",
    "result= d1['Area in km2 '].astype('int')/d1['Population'].astype('int')\n",
    "d1['Result'] = result\n",
    "d1.iloc[:,[0,2,1,3,4,5,6]]\n",
    "d1.sort_values(by=['Result','GlutenFree'], ascending=False)\n",
    "\n",
    "#it can be used as an best marketing place to start according to \"Are in km2/population\"\n",
    "#which means more GlutenFreeRest in area will allow moer people to reach."
   ]
  }
 ],
 "metadata": {
  "kernelspec": {
   "display_name": "Python 3 (ipykernel)",
   "language": "python",
   "name": "python3"
  },
  "language_info": {
   "codemirror_mode": {
    "name": "ipython",
    "version": 3
   },
   "file_extension": ".py",
   "mimetype": "text/x-python",
   "name": "python",
   "nbconvert_exporter": "python",
   "pygments_lexer": "ipython3",
   "version": "3.9.13"
  }
 },
 "nbformat": 4,
 "nbformat_minor": 5
}
